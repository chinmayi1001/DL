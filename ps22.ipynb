{
 "cells": [
  {
   "cell_type": "code",
   "execution_count": 5,
   "metadata": {},
   "outputs": [],
   "source": [
    "#import necessary stuff\n",
    "import tensorflow as tf\n",
    "import matplotlib.pyplot as plt\n",
    "from tensorflow.keras.models import Sequential\n",
    "from tensorflow.keras.layers import Dense,Conv2D,Dropout,Flatten,MaxPooling2D\n",
    "from sklearn.metrics import classification_report\n",
    "import numpy as np\n",
    "\n"
   ]
  },
  {
   "cell_type": "code",
   "execution_count": 6,
   "metadata": {},
   "outputs": [
    {
     "name": "stdout",
     "output_type": "stream",
     "text": [
      "3\n"
     ]
    },
    {
     "data": {
      "text/plain": [
       "<matplotlib.image.AxesImage at 0x190fa321310>"
      ]
     },
     "execution_count": 6,
     "metadata": {},
     "output_type": "execute_result"
    },
    {
     "data": {
      "image/png": "[encoded data removed]",
      "text/plain": [
       "<Figure size 640x480 with 1 Axes>"
      ]
     },
     "metadata": {},
     "output_type": "display_data"
    }
   ],
   "source": [
    "#load dataset\n",
    "\n",
    "((x_Train,y_Train),(x_test,y_test))=tf.keras.datasets.mnist.load_data()\n",
    "\n",
    "\n",
    "#reshape dataset\n",
    "image_index=7666\n",
    "print(y_Train[image_index])\n",
    "plt.imshow(x_Train[image_index])\n",
    "\n",
    "\n",
    "\n",
    "\n",
    "\n"
   ]
  },
  {
   "cell_type": "code",
   "execution_count": 7,
   "metadata": {},
   "outputs": [
    {
     "name": "stdout",
     "output_type": "stream",
     "text": [
      "shape of X_train: (60000, 28, 28, 1)\n",
      "number of images in X_Train: 60000\n"
     ]
    }
   ],
   "source": [
    "x_Train=x_Train.reshape(x_Train.shape[0],28,28,1)\n",
    "x_Test=x_test.reshape(x_test.shape[0],28,28,1)\n",
    "input_shape=(28,28,1)\n",
    "x_Train=x_Train.astype(\"float32\")\n",
    "x_test=x_test.astype(\"float32\")\n",
    "\n",
    "x_Train/=255\n",
    "x_test/=255\n",
    "\n",
    "print(\"shape of X_train:\",x_Train.shape)\n",
    "print(\"number of images in X_Train:\",x_Train.shape[0])\n",
    "\n",
    "\n",
    "\n",
    "\n",
    "\n"
   ]
  },
  {
   "cell_type": "code",
   "execution_count": 21,
   "metadata": {},
   "outputs": [
    {
     "name": "stdout",
     "output_type": "stream",
     "text": [
      "[7 2 1 ... 4 5 6]\n"
     ]
    }
   ],
   "source": [
    "import pandas as pd\n",
    "from tensorflow.keras.utils import to_categorical\n",
    "\n",
    "\n",
    "\n",
    "train_df = pd.read_csv('C://Users//Chinmayee//Desktop//DL//LP-IV-datasets//LP-IV-datasets//MNIST//mnist_train.csv')  # Update 'your_dataset.csv' with your actual file name\n",
    "test_df = pd.read_csv('C://Users//Chinmayee//Desktop//DL//LP-IV-datasets//LP-IV-datasets//MNIST//mnist_test.csv')\n",
    "# Step 2: Extract pixel values and labels\n",
    "trainX = train_df.drop('label', axis=1).values\n",
    "trainy =train_df['label'].values\n",
    "\n",
    "\n",
    "testX = test_df.drop('label', axis=1).values\n",
    "testy =test_df['label'].values\n",
    "print(testy)\n",
    "\n",
    "\n",
    "newtrainX=trainX.reshape((-1,28,28,1)).astype('float32')/255.0\n",
    "newtestX=testX.reshape((-1,28,28,1)).astype('float32')/255.0\n",
    "\n",
    "\n",
    "\n",
    "trainy = to_categorical(trainy, num_classes=10)\n",
    "testy = to_categorical(testy, num_classes=10)  # Assuming labels are in the range 1-10"
   ]
  },
  {
   "cell_type": "code",
   "execution_count": 22,
   "metadata": {},
   "outputs": [
    {
     "name": "stdout",
     "output_type": "stream",
     "text": [
      "Model: \"sequential_3\"\n",
      "_________________________________________________________________\n",
      " Layer (type)                Output Shape              Param #   \n",
      "=================================================================\n",
      " conv2d_3 (Conv2D)           (None, 26, 26, 32)        320       \n",
      "                                                                 \n",
      " max_pooling2d_3 (MaxPoolin  (None, 13, 13, 32)        0         \n",
      " g2D)                                                            \n",
      "                                                                 \n",
      " flatten_3 (Flatten)         (None, 5408)              0         \n",
      "                                                                 \n",
      " dense_6 (Dense)             (None, 128)               692352    \n",
      "                                                                 \n",
      " dropout_3 (Dropout)         (None, 128)               0         \n",
      "                                                                 \n",
      " dense_7 (Dense)             (None, 10)                1290      \n",
      "                                                                 \n",
      "=================================================================\n",
      "Total params: 693962 (2.65 MB)\n",
      "Trainable params: 693962 (2.65 MB)\n",
      "Non-trainable params: 0 (0.00 Byte)\n",
      "_________________________________________________________________\n"
     ]
    }
   ],
   "source": [
    "#build model\n",
    "model=Sequential()\n",
    "model.add(Conv2D(32,kernel_size=(3,3),input_shape=input_shape))\n",
    "model.add(MaxPooling2D(pool_size=(2,2)))\n",
    "model.add(Flatten())\n",
    "model.add(Dense(128,activation=tf.nn.relu))\n",
    "model.add(Dropout(0.2))\n",
    "model.add(Dense(10,activation=tf.nn.softmax))\n",
    "model.compile(optimizer=\"adam\",loss=\"categorical_crossentropy\",metrics=[\"accuracy\"])\n",
    "model.summary()\n",
    "\n",
    "\n",
    "#compile model\n",
    "\n",
    "\n",
    "\n"
   ]
  },
  {
   "cell_type": "code",
   "execution_count": 25,
   "metadata": {},
   "outputs": [
    {
     "name": "stdout",
     "output_type": "stream",
     "text": [
      "469/469 [==============================] - 16s 35ms/step - loss: 0.1271 - accuracy: 0.9621\n"
     ]
    }
   ],
   "source": [
    "#fit model\n",
    "batch_size=128\n",
    "epochs=1\n",
    "history=model.fit(x=newtrainX,y=trainy,batch_size=batch_size,epochs=epochs)\n",
    "\n",
    "\n"
   ]
  },
  {
   "cell_type": "code",
   "execution_count": 26,
   "metadata": {},
   "outputs": [
    {
     "name": "stdout",
     "output_type": "stream",
     "text": [
      "evaluating network.....\n",
      "79/79 [==============================] - 1s 13ms/step\n",
      "(10000, 10)\n",
      "(10000,)\n"
     ]
    }
   ],
   "source": [
    "#evaluate model loss acc\n",
    "\n",
    "print(\"evaluating network.....\")\n",
    "predictions=model.predict(x_test,batch_size=128)\n",
    "print(predictions.shape)\n",
    "print(y_test.shape)\n",
    "\n"
   ]
  },
  {
   "cell_type": "code",
   "execution_count": 27,
   "metadata": {},
   "outputs": [
    {
     "name": "stdout",
     "output_type": "stream",
     "text": [
      "              precision    recall  f1-score   support\n",
      "\n",
      "           0       0.97      0.99      0.98       980\n",
      "           1       0.99      0.99      0.99      1135\n",
      "           2       0.98      0.95      0.96      1032\n",
      "           3       0.98      0.97      0.97      1010\n",
      "           4       0.98      0.98      0.98       982\n",
      "           5       0.99      0.97      0.98       892\n",
      "           6       0.99      0.97      0.98       958\n",
      "           7       0.97      0.97      0.97      1028\n",
      "           8       0.93      0.98      0.95       974\n",
      "           9       0.97      0.97      0.97      1009\n",
      "\n",
      "    accuracy                           0.97     10000\n",
      "   macro avg       0.97      0.97      0.97     10000\n",
      "weighted avg       0.97      0.97      0.97     10000\n",
      "\n"
     ]
    }
   ],
   "source": [
    "print(classification_report(y_test,predictions.argmax(axis=1)))\n",
    "\n",
    "\n"
   ]
  },
  {
   "cell_type": "code",
   "execution_count": 29,
   "metadata": {},
   "outputs": [],
   "source": [
    "# print(history.history.keys())\n",
    "# #plot model\n",
    "\n",
    "# plt.style.use(\"ggplot\")\n",
    "# plt.figure()\n",
    "# plt.plot(np.arange(0,5),history.history[\"loss\"],label=\"loss\")\n",
    "# plt.plot(np.arange(0,5),history.history[\"accuracy\"],label=\"accruacy\")\n",
    "# plt.xlabel(\"epochs\")\n",
    "# plt.ylabel(\"loss/accuracy\")\n",
    "# plt.title(\"evaluation\")\n",
    "# plt.legend()\n",
    "\n",
    "\n",
    "\n",
    "\n"
   ]
  },
  {
   "cell_type": "code",
   "execution_count": 30,
   "metadata": {},
   "outputs": [
    {
     "name": "stdout",
     "output_type": "stream",
     "text": [
      "1/1 [==============================] - 0s 116ms/step\n",
      "[7]\n"
     ]
    },
    {
     "data": {
      "image/png": "[encoded data removed]",
      "text/plain": [
       "<Figure size 640x480 with 1 Axes>"
      ]
     },
     "metadata": {},
     "output_type": "display_data"
    }
   ],
   "source": [
    "#predict actual data\n",
    "image_index=6666\n",
    "plt.imshow(x_test[image_index])\n",
    "pred=model.predict(x_test[image_index].reshape(1,28,28,1))\n",
    "print(pred.argmax(axis=1))"
   ]
  },
  {
   "cell_type": "code",
   "execution_count": 60,
   "metadata": {},
   "outputs": [
    {
     "name": "stdout",
     "output_type": "stream",
     "text": [
      "[[1 2 3]\n",
      " [4 5 6]\n",
      " [7 8 9]]\n",
      "1/1 [==============================] - 0s 63ms/step\n",
      "[3]\n"
     ]
    }
   ],
   "source": [
    "from PIL import Image\n",
    "\n",
    "\n",
    "trainX.reshape((-1,28,28,1))\n",
    "trainX.shape\n",
    "\n",
    "image_data = testX[90, :]\n",
    "\n",
    "image_data.shape\n",
    "\n",
    "\n",
    "\n",
    "newimgdata=image_data.reshape((28,28))\n",
    "newerimage_data = newimgdata.astype(np.uint8)\n",
    "\n",
    "image = Image.fromarray(newerimage_data)\n",
    "\n",
    "# # Display the image\n",
    "image.show()\n",
    "\n",
    "A=np.array([1,2,3,4,5,6,7,8,9])\n",
    "A.shape\n",
    "B=A.reshape(3,3)\n",
    "print(B)\n",
    "B.shape\n",
    "\n",
    "pred=model.predict(testX[90].reshape(1,28,28,1))\n",
    "print(pred.argmax(axis=1))"
   ]
  },
  {
   "cell_type": "code",
   "execution_count": null,
   "metadata": {},
   "outputs": [],
   "source": []
  }
 ],
 "metadata": {
  "kernelspec": {
   "display_name": "Python 3",
   "language": "python",
   "name": "python3"
  },
  "language_info": {
   "codemirror_mode": {
    "name": "ipython",
    "version": 3
   },
   "file_extension": ".py",
   "mimetype": "text/x-python",
   "name": "python",
   "nbconvert_exporter": "python",
   "pygments_lexer": "ipython3",
   "version": "3.11.6"
  }
 },
 "nbformat": 4,
 "nbformat_minor": 2
}
